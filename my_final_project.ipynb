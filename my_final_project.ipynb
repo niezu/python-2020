{
 "cells": [
  {
   "cell_type": "code",
   "execution_count": null,
   "metadata": {},
   "outputs": [],
   "source": [
    "# Writting a Python program to covert tempratures"
   ]
  },
  {
   "cell_type": "code",
   "execution_count": null,
   "metadata": {},
   "outputs": [],
   "source": [
    "In this project I would like to learn how to use python programming language to convert the tempratures.\n",
    "There are about 5 major temperature scales are used in world. Among them, the Fahrenheit and Celsius scales are mostly used in our daily life,\n",
    "and the Kelvin and Rankine scales are mostly used in industry and science.\n",
    "I would like to practise the convesion among  Celsius, Fahrenheit and Rankine. \n",
    "\n",
    "The orignal material and code source are from\n",
    "the unittest modual is a part of  python library. After impot to the computer, it can use the function assert to test some software.   \n",
    " "
   ]
  },
  {
   "cell_type": "markdown",
   "metadata": {},
   "source": [
    "\n",
    "The formula to convert from degrees Celsius (C) to to degrees Kelvin (k) is:\n",
    "\n",
    "Celsius  to Kelvin  formula:    oK = oC +273.15\n",
    "\n",
    "\n",
    "The formula to convert from degrees Rankine (Ra) to degrees Celsius (C) is:\n",
    "\n",
    "Kelvin to Celsius formula:      oC = oK - 273.15 \n",
    "(oK 0 degree == -273.15 oC---absolute temprature)\n",
    "\n",
    "I would first to practise with a assumed temperature mesurement to do the conversion and then will extend the script to any number of the temprature measurement.\n",
    "\n",
    "The formula to convert from degrees Celsius (C) to to degrees Fahrenheit (F) is:\n",
    "\n",
    "Celsius  to Fahrenheit  formula:  oF = oC * 1.8 + 32\n",
    "Fahenheit to Celsius formula :    oC = (oF-32)/1.8\n"
   ]
  },
  {
   "cell_type": "markdown",
   "metadata": {},
   "source": [
    "# The steps to convert the temprature (the psuedoCode)"
   ]
  },
  {
   "cell_type": "markdown",
   "metadata": {},
   "source": [
    "1. read in the current temperature\n",
    "2. determine what scale that the temprature is in.\n",
    "3. convert this temprature to a new scale.\n",
    "4. print the new temprature."
   ]
  },
  {
   "cell_type": "markdown",
   "metadata": {},
   "source": [
    "# Contents"
   ]
  },
  {
   "cell_type": "code",
   "execution_count": null,
   "metadata": {
    "jupyter": {
     "source_hidden": true
    }
   },
   "outputs": [],
   "source": [
    "Data type\n",
    "int\n",
    "x = 100\n",
    "float\n",
    "y = 32.0\n",
    "z = 459.67\n",
    "Strin"
   ]
  },
  {
   "cell_type": "code",
   "execution_count": 26,
   "metadata": {
    "jupyter": {
     "source_hidden": true
    }
   },
   "outputs": [],
   "source": [
    "#set the variables\n",
    "x = 100\n",
    "f_temp = 32.0\n",
    "r_temp = 459.67\n",
    "\n"
   ]
  },
  {
   "cell_type": "markdown",
   "metadata": {},
   "source": [
    "# Doing Math with python"
   ]
  },
  {
   "cell_type": "code",
   "execution_count": 6,
   "metadata": {
    "jupyter": {
     "source_hidden": true
    }
   },
   "outputs": [
    {
     "data": {
      "text/plain": [
       "122.0"
      ]
     },
     "execution_count": 6,
     "metadata": {},
     "output_type": "execute_result"
    }
   ],
   "source": [
    "# assume temp_c = 50, calculate temp_f\n",
    "\n",
    "temp_f = (temp_c * 1.8) + 32\n",
    "\n",
    "temp_f\n",
    "\n"
   ]
  },
  {
   "cell_type": "code",
   "execution_count": 7,
   "metadata": {
    "jupyter": {
     "source_hidden": true
    }
   },
   "outputs": [
    {
     "data": {
      "text/plain": [
       "581.67"
      ]
     },
     "execution_count": 7,
     "metadata": {},
     "output_type": "execute_result"
    }
   ],
   "source": [
    "temp_r = temp_f +(273.15 * 1.8 - 32)\n",
    "temp_r"
   ]
  },
  {
   "cell_type": "markdown",
   "metadata": {},
   "source": [
    "# Define convert function"
   ]
  },
  {
   "cell_type": "code",
   "execution_count": null,
   "metadata": {},
   "outputs": [],
   "source": [
    "def convert_c_to_f(temp):\n",
    "    new_temp = temp *1.8 +32\n",
    "    return new_temp"
   ]
  },
  {
   "cell_type": "code",
   "execution_count": 65,
   "metadata": {},
   "outputs": [
    {
     "data": {
      "text/plain": [
       "122.0"
      ]
     },
     "execution_count": 65,
     "metadata": {},
     "output_type": "execute_result"
    }
   ],
   "source": [
    "# define convert function from Celsuce to Fahrenheit.\n",
    "\n",
    "\n",
    "temp_c =50\n",
    "\n",
    "def convert_c_to_f(temp_c):\n",
    "    \n",
    "    temp_f =temp_c * 1.8 + 32\n",
    "    \n",
    "    return temp_f\n",
    "\n",
    "temp_f\n",
    "   "
   ]
  },
  {
   "cell_type": "code",
   "execution_count": 20,
   "metadata": {},
   "outputs": [
    {
     "name": "stdout",
     "output_type": "stream",
     "text": [
      "581.67\n",
      "50.0\n"
     ]
    }
   ],
   "source": [
    "\n",
    "\n",
    "def convert_c_to_r(temp_c):\n",
    "    \n",
    "    temp_r = (temp_c + 273.15) * 1.8\n",
    "    \n",
    "    return temp_r\n",
    "\n",
    "\n",
    "def convert_r_to_c(temp_r):\n",
    "    \n",
    "    temp_c =(temp_r) / 1.8 -273.15\n",
    "\n",
    "    return temp_c\n",
    "\n",
    "print(convert_c_to_r(temp_c))\n",
    "print(convert_r_to_c(temp_r))\n",
    "\n"
   ]
  },
  {
   "cell_type": "code",
   "execution_count": 83,
   "metadata": {},
   "outputs": [
    {
     "name": "stdout",
     "output_type": "stream",
     "text": [
      "563.67\n"
     ]
    }
   ],
   "source": [
    "def convert_f_to_r(temp_f):\n",
    "    \n",
    "    temp_r =temp_f + (273.15 * 1.8 -32)\n",
    "    \n",
    "    return temp_r\n",
    "print (convert_f_to_r(temp_f))"
   ]
  },
  {
   "cell_type": "markdown",
   "metadata": {},
   "source": [
    "# Testing the code"
   ]
  },
  {
   "cell_type": "code",
   "execution_count": null,
   "metadata": {},
   "outputs": [],
   "source": []
  },
  {
   "cell_type": "code",
   "execution_count": 11,
   "metadata": {},
   "outputs": [],
   "source": [
    "import unittest\n",
    "\n",
    "assert (convert_c_to_r(40)) == 563.67\n",
    "assert (convert_r_to_c(563.67)) == 40\n"
   ]
  },
  {
   "cell_type": "code",
   "execution_count": null,
   "metadata": {},
   "outputs": [],
   "source": [
    "no results is a good result"
   ]
  },
  {
   "cell_type": "code",
   "execution_count": 12,
   "metadata": {},
   "outputs": [
    {
     "ename": "AssertionError",
     "evalue": "",
     "output_type": "error",
     "traceback": [
      "\u001b[0;31m---------------------------------------------------------------------------\u001b[0m",
      "\u001b[0;31mAssertionError\u001b[0m                            Traceback (most recent call last)",
      "\u001b[0;32m<ipython-input-12-49f44ee75c24>\u001b[0m in \u001b[0;36m<module>\u001b[0;34m\u001b[0m\n\u001b[1;32m      1\u001b[0m \u001b[0;32mimport\u001b[0m \u001b[0munittest\u001b[0m\u001b[0;34m\u001b[0m\u001b[0;34m\u001b[0m\u001b[0m\n\u001b[1;32m      2\u001b[0m \u001b[0;34m\u001b[0m\u001b[0m\n\u001b[0;32m----> 3\u001b[0;31m \u001b[0;32massert\u001b[0m\u001b[0;34m(\u001b[0m\u001b[0mconvert_c_to_r\u001b[0m\u001b[0;34m(\u001b[0m\u001b[0;36m40\u001b[0m\u001b[0;34m)\u001b[0m\u001b[0;34m)\u001b[0m \u001b[0;34m==\u001b[0m \u001b[0;36m564.67\u001b[0m\u001b[0;34m\u001b[0m\u001b[0;34m\u001b[0m\u001b[0m\n\u001b[0m\u001b[1;32m      4\u001b[0m \u001b[0;32massert\u001b[0m \u001b[0;34m(\u001b[0m\u001b[0mconvert_r_to_c\u001b[0m\u001b[0;34m(\u001b[0m\u001b[0;36m563.67\u001b[0m\u001b[0;34m)\u001b[0m\u001b[0;34m)\u001b[0m\u001b[0;34m==\u001b[0m\u001b[0;36m41\u001b[0m\u001b[0;34m\u001b[0m\u001b[0;34m\u001b[0m\u001b[0m\n",
      "\u001b[0;31mAssertionError\u001b[0m: "
     ]
    }
   ],
   "source": [
    "import unittest\n",
    "\n",
    "assert(convert_c_to_r(40)) == 564.67\n",
    "assert (convert_r_to_c(563.67))==41"
   ]
  },
  {
   "cell_type": "code",
   "execution_count": 24,
   "metadata": {},
   "outputs": [],
   "source": [
    "import unittest\n",
    "\n",
    "assert (convert_f_to_r(104.0)) == 563.67"
   ]
  },
  {
   "cell_type": "code",
   "execution_count": 25,
   "metadata": {},
   "outputs": [
    {
     "ename": "AssertionError",
     "evalue": "",
     "output_type": "error",
     "traceback": [
      "\u001b[0;31m---------------------------------------------------------------------------\u001b[0m",
      "\u001b[0;31mAssertionError\u001b[0m                            Traceback (most recent call last)",
      "\u001b[0;32m<ipython-input-25-7db9927608c1>\u001b[0m in \u001b[0;36m<module>\u001b[0;34m\u001b[0m\n\u001b[1;32m      1\u001b[0m \u001b[0;32mimport\u001b[0m \u001b[0munittest\u001b[0m\u001b[0;34m\u001b[0m\u001b[0;34m\u001b[0m\u001b[0m\n\u001b[1;32m      2\u001b[0m \u001b[0;34m\u001b[0m\u001b[0m\n\u001b[0;32m----> 3\u001b[0;31m \u001b[0;32massert\u001b[0m \u001b[0;34m(\u001b[0m \u001b[0mconvert_f_to_r\u001b[0m\u001b[0;34m(\u001b[0m\u001b[0;36m104.0\u001b[0m\u001b[0;34m)\u001b[0m\u001b[0;34m)\u001b[0m\u001b[0;34m==\u001b[0m\u001b[0;36m564.67\u001b[0m\u001b[0;34m\u001b[0m\u001b[0;34m\u001b[0m\u001b[0m\n\u001b[0m",
      "\u001b[0;31mAssertionError\u001b[0m: "
     ]
    }
   ],
   "source": [
    "import unittest\n",
    "\n",
    "assert ( convert_f_to_r(104.0))==564.67"
   ]
  },
  {
   "cell_type": "markdown",
   "metadata": {},
   "source": [
    "# Creat lists"
   ]
  },
  {
   "cell_type": "code",
   "execution_count": 26,
   "metadata": {},
   "outputs": [
    {
     "data": {
      "text/plain": [
       "list"
      ]
     },
     "execution_count": 26,
     "metadata": {},
     "output_type": "execute_result"
    }
   ],
   "source": [
    "f_temps = [0.0, 32.0, 100.0, 212.0, 273.15]\n",
    "\n",
    "type (f_temps)"
   ]
  },
  {
   "cell_type": "code",
   "execution_count": 27,
   "metadata": {},
   "outputs": [
    {
     "data": {
      "text/plain": [
       "5"
      ]
     },
     "execution_count": 27,
     "metadata": {},
     "output_type": "execute_result"
    }
   ],
   "source": [
    "len(f_temps)"
   ]
  },
  {
   "cell_type": "markdown",
   "metadata": {},
   "source": [
    "# loop the elements in the list for further work"
   ]
  },
  {
   "cell_type": "markdown",
   "metadata": {},
   "source": [
    "#     working with a file for loop"
   ]
  },
  {
   "cell_type": "code",
   "execution_count": 40,
   "metadata": {},
   "outputs": [
    {
     "name": "stdout",
     "output_type": "stream",
     "text": [
      "Overwriting f_temps.txt\n"
     ]
    }
   ],
   "source": [
    "%%writefile \"f_temps.txt\"\n",
    "0.0\n",
    "32.0\n",
    "100.0\n",
    "212.0\n",
    "273.15"
   ]
  },
  {
   "cell_type": "code",
   "execution_count": 29,
   "metadata": {},
   "outputs": [
    {
     "name": "stdout",
     "output_type": "stream",
     "text": [
      "0.0\n",
      "32.0\n",
      "100.0\n",
      "212.0\n",
      "273.15\n"
     ]
    }
   ],
   "source": [
    "for temperature in f_temps:\n",
    "    print (temperature)"
   ]
  },
  {
   "cell_type": "code",
   "execution_count": 39,
   "metadata": {},
   "outputs": [
    {
     "name": "stdout",
     "output_type": "stream",
     "text": [
      "0.0\n",
      "\n",
      "32.0\n",
      "\n",
      "100.0\n",
      "\n",
      "212.0\n",
      "\n",
      "273.15\n",
      "\n"
     ]
    }
   ],
   "source": [
    "with open(\"f_temps.txt\" ) as f:\n",
    "    for line in f:\n",
    "        print (line)"
   ]
  },
  {
   "cell_type": "markdown",
   "metadata": {},
   "source": [
    "# String Foamatting"
   ]
  },
  {
   "cell_type": "code",
   "execution_count": 90,
   "metadata": {},
   "outputs": [
    {
     "name": "stdout",
     "output_type": "stream",
     "text": [
      "0.0 deg.C= 32.0 deg.F \n",
      "32.0 deg.C= 89.6 deg.F \n",
      "100.0 deg.C= 212.0 deg.F \n",
      "212.0 deg.C= 413.6 deg.F \n",
      "273.15 deg.C= 523.67 deg.F \n"
     ]
    }
   ],
   "source": [
    "with open(\"f_temps.txt\" ) as f:\n",
    "    for line in f:\n",
    "        temp = float(line)\n",
    "        new_temp = convert_c_to_f (temp)\n",
    "         \n",
    "        print (\"{} deg.C= {} deg.F \".format(temp,new_temp))"
   ]
  },
  {
   "cell_type": "code",
   "execution_count": 97,
   "metadata": {},
   "outputs": [
    {
     "name": "stdout",
     "output_type": "stream",
     "text": [
      "      0.00 deg. C =      32.00 deg.F \n",
      "     32.00 deg. C =      89.60 deg.F \n",
      "    100.00 deg. C =     212.00 deg.F \n",
      "    212.00 deg. C =     413.60 deg.F \n",
      "    273.15 deg. C =     523.67 deg.F \n"
     ]
    }
   ],
   "source": [
    "with open(\"f_temps.txt\" ) as f:\n",
    "    for line in f:\n",
    "        temp = float(line)\n",
    "        new_temp = convert_c_to_f (temp)\n",
    "         \n",
    "        print (\"{:10.2f} deg. C = {:10.2f} deg.F \".format(temp,new_temp))"
   ]
  },
  {
   "cell_type": "code",
   "execution_count": 51,
   "metadata": {},
   "outputs": [
    {
     "name": "stdout",
     "output_type": "stream",
     "text": [
      "Writing c_temps.txt\n"
     ]
    }
   ],
   "source": [
    "%%writefile \"c_temps.txt\"\n",
    "0.0\n",
    "32.0\n",
    "100.0\n",
    "212.0\n",
    "273.15"
   ]
  },
  {
   "cell_type": "code",
   "execution_count": 53,
   "metadata": {},
   "outputs": [
    {
     "name": "stdout",
     "output_type": "stream",
     "text": [
      "Writing r_temps.txt\n"
     ]
    }
   ],
   "source": [
    "%%writefile \"r_temps.txt\"\n",
    "0.0\n",
    "32.0\n",
    "100.0\n",
    "212.0\n",
    "273.15"
   ]
  },
  {
   "cell_type": "code",
   "execution_count": 102,
   "metadata": {},
   "outputs": [
    {
     "ename": "SyntaxError",
     "evalue": "invalid syntax (<ipython-input-102-54b00d8829ba>, line 37)",
     "output_type": "error",
     "traceback": [
      "\u001b[0;36m  File \u001b[0;32m\"<ipython-input-102-54b00d8829ba>\"\u001b[0;36m, line \u001b[0;32m37\u001b[0m\n\u001b[0;31m    convert_temp(\"c,\" convert_c_to_f)\u001b[0m\n\u001b[0m                                   ^\u001b[0m\n\u001b[0;31mSyntaxError\u001b[0m\u001b[0;31m:\u001b[0m invalid syntax\n"
     ]
    }
   ],
   "source": [
    "\n",
    "# copy the function fron above\n",
    "\n",
    "def convert_f_to_r(temp_f):\n",
    "    new_temp = temp_f + (273.15 * 1.8) -32\n",
    "    return new_temp\n",
    "\n",
    "def convert_c_to_r(temp_c):\n",
    "    temp_r = (temp_c + 273.15) * 1.8\n",
    "    return temp_r\n",
    "\n",
    "\n",
    "def convert_r_to_c(temp_r):\n",
    "    temp_c =(temp_r) / 1.8 -273.15\n",
    "    return temp_c\n",
    "\n",
    "def convert_f_to_r(temp_f):\n",
    "    temp_r =temp_f + (273.15 * 1.8 -32)\n",
    "    return temp_r\n",
    "\n",
    "# New code starts here\n",
    "def convert_temp(scale, conversion_function):\n",
    "    opposite_scale = {\"C\": \"F\", \"F\": \"C\"}\n",
    "    file_name = \"{}_temps.txt\".format(scale)\n",
    "    with open(file_name) as f:\n",
    "        for line in f:\n",
    "            temp = float(line)\n",
    "            new_temp = conversion_function(temp)\n",
    "            print(\"{:10.2f} deg.{} = {:10.2f} deg. {}\".format(temp,\n",
    "                                                             str.upper(scale),\n",
    "                                                             new_temp,\n",
    "                                                             opposite_scale[str.upper(scale)]))\n",
    "            \n",
    "            \n",
    "temps = 'c'\n",
    "if temps =='c':\n",
    "    convert_temp(\"c,\" convert_c_to_f)\n",
    "elif temps == 'f':\n",
    "    convert_temp (\"f\",convert_f_to_c)\n",
    "            \n"
   ]
  },
  {
   "cell_type": "code",
   "execution_count": 104,
   "metadata": {},
   "outputs": [
    {
     "ename": "SyntaxError",
     "evalue": "invalid syntax (<ipython-input-104-85b6cc70a24f>, line 17)",
     "output_type": "error",
     "traceback": [
      "\u001b[0;36m  File \u001b[0;32m\"<ipython-input-104-85b6cc70a24f>\"\u001b[0;36m, line \u001b[0;32m17\u001b[0m\n\u001b[0;31m    convert_temp(\"c,\" convert_c_to_f)\u001b[0m\n\u001b[0m                                   ^\u001b[0m\n\u001b[0;31mSyntaxError\u001b[0m\u001b[0;31m:\u001b[0m invalid syntax\n"
     ]
    }
   ],
   "source": [
    "# New code starts here\n",
    "def convert_temp(scale, conversion_function):\n",
    "    opposite_scale = {\"C\": \"F\", \"F\": \"C\"}\n",
    "    file_name = \"{}_temps.txt\".format(scale)\n",
    "    with open(file_name) as f:\n",
    "        for line in f:\n",
    "            temp = float(line)\n",
    "            new_temp = conversion_function(temp)\n",
    "            print(\"{:10.2f} deg.{} = {:10.2f} deg. {}\".format(temp,\n",
    "                                                             str.upper(scale),\n",
    "                                                             new_temp,\n",
    "                                                             opposite_scale[str.upper(scale)]))\n",
    "            \n",
    "            \n",
    "temps = 'c'\n",
    "if temps =='c':\n",
    "    convert_temp(\"c,\" convert_c_to_f)\n",
    "elif temps == 'f':\n",
    "    convert_temp (\"f\",convert_f_to_c)\n",
    "            \n",
    "\n"
   ]
  },
  {
   "cell_type": "markdown",
   "metadata": {},
   "source": [
    "# Dictionaries"
   ]
  },
  {
   "cell_type": "code",
   "execution_count": 107,
   "metadata": {},
   "outputs": [
    {
     "data": {
      "text/plain": [
       "'Water boils (if F scale)'"
      ]
     },
     "execution_count": 107,
     "metadata": {},
     "output_type": "execute_result"
    }
   ],
   "source": [
    "#creat dictionary using the statement:\n",
    "important_temps = {}\n",
    "    \n",
    "important_temps[32]= \"Water freezes (if F scale)\"\n",
    "important_temps[0] = \"Water freezes (if C scale)\"\n",
    "important_temps[212] = \"Water boils (if F scale)\"\n",
    "important_temps[100] = \"Water boils (if C scale)\"\n",
    "important_temps[273.15] = \"absolute 0 degree( if K and R scale)\"\n",
    "        \n",
    "important_temps[212]       "
   ]
  },
  {
   "cell_type": "markdown",
   "metadata": {},
   "source": [
    "# Modules and Imports"
   ]
  },
  {
   "cell_type": "code",
   "execution_count": 1,
   "metadata": {},
   "outputs": [
    {
     "name": "stdout",
     "output_type": "stream",
     "text": [
      "Overwriting temp_converter.py\n"
     ]
    }
   ],
   "source": [
    "%%writefile \"temp_converter.py\"\n",
    "\n",
    "def convert_tem_c_to_f(temp_c):\n",
    "    temp_f = float(temp_c) * 1.8 +32\n",
    "    return temp_f\n",
    "\n",
    "def convert_temp_f_to_c(temp_f):\n",
    "    temp_c= (float (temp_f) -32) /1.8\n",
    "    return temp_f\n",
    "\n",
    "\n",
    "\n"
   ]
  },
  {
   "cell_type": "code",
   "execution_count": null,
   "metadata": {},
   "outputs": [],
   "source": [
    "import temp_ converter\n",
    "temp_converter.convert_temp_c_to_f(100)"
   ]
  },
  {
   "cell_type": "code",
   "execution_count": 3,
   "metadata": {},
   "outputs": [
    {
     "data": {
      "text/plain": [
       "212"
      ]
     },
     "execution_count": 3,
     "metadata": {},
     "output_type": "execute_result"
    }
   ],
   "source": [
    "import temp_converter\n",
    "temp_converter.convert_temp_f_to_c(212)\n",
    "\n",
    "\n"
   ]
  },
  {
   "cell_type": "code",
   "execution_count": null,
   "metadata": {},
   "outputs": [],
   "source": []
  }
 ],
 "metadata": {
  "kernelspec": {
   "display_name": "Python 3",
   "language": "python",
   "name": "python3"
  },
  "language_info": {
   "codemirror_mode": {
    "name": "ipython",
    "version": 3
   },
   "file_extension": ".py",
   "mimetype": "text/x-python",
   "name": "python",
   "nbconvert_exporter": "python",
   "pygments_lexer": "ipython3",
   "version": "3.7.4"
  }
 },
 "nbformat": 4,
 "nbformat_minor": 4
}
